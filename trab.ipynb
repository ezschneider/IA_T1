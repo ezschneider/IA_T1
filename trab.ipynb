{
 "cells": [
  {
   "cell_type": "markdown",
   "metadata": {},
   "source": [
    "Importando funções necessárias"
   ]
  },
  {
   "cell_type": "code",
   "execution_count": 29,
   "metadata": {},
   "outputs": [],
   "source": [
    "from sklearn.model_selection import RepeatedStratifiedKFold\n",
    "from sklearn.model_selection import cross_val_score\n",
    "from sklearn.preprocessing import StandardScaler\n",
    "from sklearn.model_selection import GridSearchCV\n",
    "from sklearn.pipeline import Pipeline\n",
    "from scipy import stats\n",
    "import matplotlib.pyplot as plot\n",
    "import seaborn as sns\n",
    "import pandas as pd\n",
    "import numpy as np"
   ]
  },
  {
   "cell_type": "markdown",
   "metadata": {},
   "source": [
    "Função para adicionar as medidas na tabela de acurácia"
   ]
  },
  {
   "cell_type": "code",
   "execution_count": 30,
   "metadata": {},
   "outputs": [],
   "source": [
    "def add_result_measure(met, df, scores):\n",
    "    inf, sup = stats.norm.interval(0.95, loc=scores.mean(), \n",
    "                               scale=scores.std()/np.sqrt(len(scores)))\n",
    "    new_row = pd.DataFrame([[met, round(scores.mean(), 2), round(scores.std(), 2), round(inf, 2), round(sup, 2)]],\n",
    "                            columns=['Método', 'Média', 'Desvio Padrão', 'Limite Inferior', 'Limite Superior'])\n",
    "    df = pd.concat([df, new_row])\n",
    "    return df"
   ]
  },
  {
   "cell_type": "markdown",
   "metadata": {},
   "source": [
    "Função que cria a tabela de p-valores"
   ]
  },
  {
   "cell_type": "code",
   "execution_count": 31,
   "metadata": {},
   "outputs": [],
   "source": [
    "def table_htest(list_scores):\n",
    "    from scipy.stats import ttest_rel, wilcoxon\n",
    "    list_estimators = ['ZR', 'NBG', 'KMC','KNN', 'AD']\n",
    "    table_htest = [[0 for _ in range(len(list_estimators))] for _ in range(len(list_estimators))]\n",
    "\n",
    "    for row in range(len(list_estimators)):\n",
    "        for col in range(len(list_estimators)):\n",
    "            if(row == col):\n",
    "                table_htest[row][col] = list_estimators[row]\n",
    "            else:\n",
    "                if(col > row):\n",
    "                    s,p = ttest_rel(list_scores[row],list_scores[col])\n",
    "                    table_htest[row][col] = round(p, 3)\n",
    "                else:\n",
    "                    s,p = wilcoxon(list_scores[row],list_scores[col])\n",
    "                    table_htest[row][col] = round(p, 3)\n",
    "    return table_htest"
   ]
  },
  {
   "cell_type": "markdown",
   "metadata": {},
   "source": [
    "Inicializando a tabela de medidas para ir adicionando os resultados"
   ]
  },
  {
   "cell_type": "code",
   "execution_count": 32,
   "metadata": {},
   "outputs": [],
   "source": [
    "table_result_measure = pd.DataFrame(columns=['Método', 'Média', 'Desvio Padrão', 'Limite Inferior', 'Limite Superior'])"
   ]
  },
  {
   "cell_type": "markdown",
   "metadata": {},
   "source": [
    "Importando a base de dados"
   ]
  },
  {
   "cell_type": "code",
   "execution_count": 33,
   "metadata": {},
   "outputs": [],
   "source": [
    "from sklearn import datasets\n",
    "\n",
    "data = datasets.load_breast_cancer()\n",
    "data_X = data.data\n",
    "data_y = data.target"
   ]
  },
  {
   "cell_type": "markdown",
   "metadata": {},
   "source": [
    "Parte I\n",
    "- Importando os Classificadores ZeroR e Naive Bayes Gaussiano\n",
    "- Inicializando o escalar e o repetidor estratificado"
   ]
  },
  {
   "cell_type": "code",
   "execution_count": 34,
   "metadata": {},
   "outputs": [],
   "source": [
    "from sklearn.dummy import DummyClassifier\n",
    "from sklearn.naive_bayes import GaussianNB\n",
    "\n",
    "scalar = StandardScaler()\n",
    "rkf = RepeatedStratifiedKFold(n_splits=10, n_repeats=3, random_state=36851234)"
   ]
  },
  {
   "cell_type": "markdown",
   "metadata": {},
   "source": [
    "- Chamando os construtores de cada classificador da parte I\n",
    "- Realizando as validações cruzadas\n",
    "- Adicionando os resultados na tabela de medidas"
   ]
  },
  {
   "cell_type": "code",
   "execution_count": 35,
   "metadata": {},
   "outputs": [],
   "source": [
    "zR = DummyClassifier()\n",
    "pipeline_zR = Pipeline([('transformer', scalar), ('estimator', zR)])\n",
    "\n",
    "gNB = GaussianNB()\n",
    "pipeline_gNB = Pipeline([('transformer', scalar), ('estimator', gNB)])\n",
    "\n",
    "zr_scores = cross_val_score(pipeline_zR, data_X, data_y, scoring='accuracy', cv=rkf)\n",
    "table_result_measure = add_result_measure('ZR', table_result_measure, cross_val_score(pipeline_zR, data_X, data_y, scoring='accuracy', cv=rkf))\n",
    "\n",
    "nbg_scores = cross_val_score(pipeline_gNB, data_X, data_y, scoring='accuracy', cv=rkf)\n",
    "table_result_measure = add_result_measure('NBG', table_result_measure, cross_val_score(pipeline_gNB, data_X, data_y, scoring='accuracy', cv=rkf))"
   ]
  },
  {
   "cell_type": "markdown",
   "metadata": {},
   "source": [
    "Parte II\n",
    "- Importando os Classificadores KNN, KMeans e Arvore de Decisão\n",
    "- Importando outras funções necessárias"
   ]
  },
  {
   "cell_type": "code",
   "execution_count": 36,
   "metadata": {},
   "outputs": [],
   "source": [
    "from sklearn.neighbors import KNeighborsClassifier\n",
    "from sklearn.tree import DecisionTreeClassifier\n",
    "from sklearn.cluster import KMeans\n",
    "from sklearn.base import BaseEstimator\n",
    "from sklearn.utils.validation import check_X_y\n",
    "from sklearn.model_selection import GridSearchCV"
   ]
  },
  {
   "cell_type": "markdown",
   "metadata": {},
   "source": [
    "Classe do classificador KMC\n",
    "- Init com os parâmetros de classe:\n",
    "    - K\n",
    "    - Lista de centróides\n",
    "    - Lista de classificação das centróides\n",
    "\n",
    "- Função de treino:\n",
    "    - Aplicando o Kmeans em cada grupo de classe\n",
    "    - Encontrando os centróides de cada grupo\n",
    "\n",
    "- Função de predição:\n",
    "    - Aplicando o KNN para encontrar a centróide mais próxima"
   ]
  },
  {
   "cell_type": "code",
   "execution_count": 37,
   "metadata": {},
   "outputs": [],
   "source": [
    "class KMCClassifier(BaseEstimator):\n",
    "    def __init__(self, k=1):\n",
    "        super().__init__()\n",
    "        self.k = k\n",
    "        self.cent = []\n",
    "        self.label = []\n",
    "\n",
    "    def fit(self, X_train, y_train):\n",
    "        X_train, y_train = check_X_y(X_train, y_train)\n",
    "        for classe in range(len(np.unique(y_train))):\n",
    "            kmeans = KMeans(n_clusters=self.k)\n",
    "            kmeans.fit(X_train [y_train == classe])\n",
    "            for clust in kmeans.cluster_centers_:\n",
    "                self.cent.append(clust)\n",
    "                self.label.append(classe)\n",
    "\n",
    "    def predict(self, X_test):\n",
    "        knn = KNeighborsClassifier(n_neighbors=1)\n",
    "        knn.fit(self.cent, self.label)\n",
    "        return knn.predict(X_test)"
   ]
  },
  {
   "cell_type": "markdown",
   "metadata": {},
   "source": [
    "Definindo os hiperparâmetros"
   ]
  },
  {
   "cell_type": "code",
   "execution_count": 38,
   "metadata": {},
   "outputs": [],
   "source": [
    "parameters_KMC = {'estimator__k':[1,3,5,7]}\n",
    "parameters_KNN = {'estimator__n_neighbors':[1,3,5,7]}\n",
    "parameters_AD = {'estimator__max_depth':[None,3,5,10]}"
   ]
  },
  {
   "cell_type": "markdown",
   "metadata": {},
   "source": [
    "- Chamando os construtores de cada classificador da parte II\n",
    "- Realizando as validações cruzadas com ciclos aninhados\n",
    "- Adicionando os resultados na tabela de medidas"
   ]
  },
  {
   "cell_type": "code",
   "execution_count": 39,
   "metadata": {},
   "outputs": [],
   "source": [
    "kMC = KMCClassifier()\n",
    "pipeline_kMC = Pipeline([('transformer', scalar), ('estimator', kMC)])\n",
    "p_KMC = GridSearchCV(pipeline_kMC, parameters_KMC, scoring='accuracy', cv=4)\n",
    "\n",
    "kNN = KNeighborsClassifier()\n",
    "pipeline_kNN = Pipeline([('transformer', scalar), ('estimator', kNN)])\n",
    "p_KNN = GridSearchCV(pipeline_kNN, parameters_KNN, scoring='accuracy', cv=4)\n",
    "\n",
    "aD = DecisionTreeClassifier()\n",
    "pipeline_AD = Pipeline([('transformer', scalar), ('estimator', aD)])\n",
    "p_AD = GridSearchCV(pipeline_AD, parameters_AD, scoring='accuracy', cv=4)\n",
    "\n",
    "kmc_scores = cross_val_score(p_KMC, data_X, data_y, scoring='accuracy', cv=rkf)\n",
    "table_result_measure = add_result_measure('KMC', table_result_measure, kmc_scores)\n",
    "\n",
    "knn_scores = cross_val_score(p_KNN, data_X, data_y, scoring='accuracy', cv=rkf)\n",
    "table_result_measure = add_result_measure('KNN', table_result_measure, knn_scores)\n",
    "\n",
    "ad_scores = cross_val_score(p_AD, data_X, data_y, scoring='accuracy', cv=rkf)\n",
    "table_result_measure = add_result_measure('AD', table_result_measure, ad_scores)"
   ]
  },
  {
   "cell_type": "markdown",
   "metadata": {},
   "source": [
    "Tabela de resultados das medidas dos classificadores"
   ]
  },
  {
   "cell_type": "code",
   "execution_count": 40,
   "metadata": {},
   "outputs": [
    {
     "name": "stdout",
     "output_type": "stream",
     "text": [
      "  Método Média Desvio Padrão Limite Inferior Limite Superior\n",
      "0     ZR  0.63          0.01            0.62            0.63\n",
      "1    NBG  0.93          0.03            0.92            0.94\n",
      "2    KMC  0.95          0.03            0.94            0.96\n",
      "3    KNN  0.97          0.02            0.96            0.97\n",
      "4     AD  0.93          0.03            0.92            0.94\n"
     ]
    }
   ],
   "source": [
    "table_result_measure.reset_index(drop=True, inplace=True)\n",
    "print(table_result_measure)"
   ]
  },
  {
   "cell_type": "markdown",
   "metadata": {},
   "source": [
    "Tabela triangular dos p-valores"
   ]
  },
  {
   "cell_type": "code",
   "execution_count": 41,
   "metadata": {},
   "outputs": [
    {
     "name": "stdout",
     "output_type": "stream",
     "text": [
      "     0      1      2      3      4\n",
      "0   ZR    0.0    0.0    0.0    0.0\n",
      "1  0.0    NBG  0.024    0.0  0.212\n",
      "2  0.0  0.039    KMC  0.009  0.001\n",
      "3  0.0    0.0  0.009    KNN    0.0\n",
      "4  0.0  0.464  0.003    0.0     AD\n"
     ]
    }
   ],
   "source": [
    "list_scores = [zr_scores, nbg_scores, kmc_scores, knn_scores, ad_scores]\n",
    "table_pvalue = pd.DataFrame(table_htest(list_scores))\n",
    "print(table_pvalue)"
   ]
  },
  {
   "cell_type": "markdown",
   "metadata": {},
   "source": [
    "Boxplot das medidas de cada classificador"
   ]
  },
  {
   "cell_type": "code",
   "execution_count": 42,
   "metadata": {},
   "outputs": [
    {
     "data": {
      "image/png": "[encoded data removed]",
      "text/plain": [
       "<Figure size 432x288 with 1 Axes>"
      ]
     },
     "metadata": {
      "needs_background": "light"
     },
     "output_type": "display_data"
    }
   ],
   "source": [
    "list_estimators = ['ZR', 'NBG', 'KMC','KNN', 'AD']\n",
    "table_scores = pd.DataFrame(columns=list_estimators)\n",
    "for i in range(len(list_estimators)):\n",
    "    table_scores[list_estimators[i]] = list_scores[i]\n",
    "_ = sns.boxplot(data=table_scores)"
   ]
  }
 ],
 "metadata": {
  "kernelspec": {
   "display_name": "Python 3.9.13 64-bit (windows store)",
   "language": "python",
   "name": "python3"
  },
  "language_info": {
   "codemirror_mode": {
    "name": "ipython",
    "version": 3
   },
   "file_extension": ".py",
   "mimetype": "text/x-python",
   "name": "python",
   "nbconvert_exporter": "python",
   "pygments_lexer": "ipython3",
   "version": "3.9.13"
  },
  "orig_nbformat": 4,
  "vscode": {
   "interpreter": {
    "hash": "25d5b29630f9a81c5c38743747908e5079b15a4a76960212a29f48fde69226ba"
   }
  }
 },
 "nbformat": 4,
 "nbformat_minor": 2
}
